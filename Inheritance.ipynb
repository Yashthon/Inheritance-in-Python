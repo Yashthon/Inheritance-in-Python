{
  "nbformat": 4,
  "nbformat_minor": 0,
  "metadata": {
    "colab": {
      "name": "Inheritance.ipynb",
      "provenance": [],
      "collapsed_sections": [],
      "mount_file_id": "1z5OaUekccBaDN4apgrkjccxk3mJ5-WpN",
      "authorship_tag": "ABX9TyO58FYoPmmAXShdEZfRxM5I",
      "include_colab_link": true
    },
    "kernelspec": {
      "name": "python3",
      "display_name": "Python 3"
    },
    "language_info": {
      "name": "python"
    }
  },
  "cells": [
    {
      "cell_type": "markdown",
      "metadata": {
        "id": "view-in-github",
        "colab_type": "text"
      },
      "source": [
        "<a href=\"https://colab.research.google.com/github/Yashthon/Inheritance-in-Python/blob/main/Inheritance.ipynb\" target=\"_parent\"><img src=\"https://colab.research.google.com/assets/colab-badge.svg\" alt=\"Open In Colab\"/></a>"
      ]
    },
    {
      "cell_type": "markdown",
      "source": [
        "# 1. ROT13 is a weak form of encryption that involves “rotating” each letter in a word by\n",
        "#13 places. To rotate a letter means to shift it through the alphabet, wrapping around to\n",
        "#the beginning if necessary, so ’A’ shifted by 3 is ’D’ and ’Z’ shifted by 1 is ’A’. Write\n",
        "#a function called rotate_word that takes a string and an integer as parameters, and that\n",
        "#returns a new string that contains the letters from the original string “rotated” by the\n",
        "#given amount. For example, “cheer” rotated by 7 is “jolly” and “melon” rotated by -\n",
        "#10 is “cubed”. You might want to use the built-in functions ord, which converts a\n",
        "#character to a numeric code, and chr, which converts numeric codes to characters"
      ],
      "metadata": {
        "id": "f9bzcrA_2DOK"
      }
    },
    {
      "cell_type": "code",
      "execution_count": null,
      "metadata": {
        "colab": {
          "base_uri": "https://localhost:8080/"
        },
        "id": "5pkGrvh91PXx",
        "outputId": "146aaaae-04da-482f-fe2e-545385aa46c3"
      },
      "outputs": [
        {
          "output_type": "stream",
          "name": "stdout",
          "text": [
            "Enter word cheer\n",
            "Shift by how many numbers?7\n",
            "jolly\n"
          ]
        }
      ],
      "source": [
        "import string\n",
        "\n",
        "word = str(input('Enter word '))\n",
        "shift = int(input(\"Shift by how many numbers?\"))\n",
        "\n",
        "def rotate_word(word, shift):\n",
        "  for letter in word:\n",
        "    word = word.replace(letter, chr(ord(letter) + shift))\n",
        "  print(word)\n",
        "\n",
        "rotate_word(word, shift)"
      ]
    },
    {
      "cell_type": "markdown",
      "source": [
        "# 2. Write a function called has_no_e that returns True if the given word doesn’t have the\n",
        "#letter “e” in it. Modify your program to print only the words that have no “e” and\n",
        "#compute the percentage of the words in the list have no “e."
      ],
      "metadata": {
        "id": "Qe3mKI0vBnLv"
      }
    },
    {
      "cell_type": "code",
      "source": [
        "def Check_for_e(str):\n",
        "  count = 0\n",
        "  word = str.split()\n",
        "  l=len(word)\n",
        "  print ('Number of Words in the entered String',l)\n",
        "  for i in range(0,l):\n",
        "    if \"e\" not in word[i]:\n",
        "      count += 1\n",
        "      print(word[i])\n",
        "  per = float(count) / l * 100\n",
        "  return per\n",
        "s = input(\"Enter a sentence:\")\n",
        "Check_for_e(s)"
      ],
      "metadata": {
        "id": "-LvWsBFt9niM",
        "colab": {
          "base_uri": "https://localhost:8080/"
        },
        "outputId": "f1e50f6d-fe50-4518-dfbe-2ff58165d195"
      },
      "execution_count": null,
      "outputs": [
        {
          "output_type": "stream",
          "name": "stdout",
          "text": [
            "Enter a sentence:Hello, I am Yash\n",
            "Number of Words in the entered String 4\n",
            "I\n",
            "am\n",
            "Yash\n"
          ]
        },
        {
          "output_type": "execute_result",
          "data": {
            "text/plain": [
              "75.0"
            ]
          },
          "metadata": {},
          "execution_count": 1
        }
      ]
    },
    {
      "cell_type": "markdown",
      "source": [
        "# 3. Two words are anagrams if you can rearrange the letters from one to spell the other.\n",
        "#Write a function called is_anagram that takes two strings and returns True if they are\n",
        "#Anagrams"
      ],
      "metadata": {
        "id": "iDS7NQINEbn-"
      }
    },
    {
      "cell_type": "code",
      "source": [
        "def areAnagram(str1, str2):\n",
        "\tn1 = len(str1)\n",
        "\tn2 = len(str2)\n",
        "\n",
        "\tif n1 != n2:\n",
        "\t\treturn 0\n",
        "\n",
        "\tstr1 = sorted(str1)\n",
        "\tstr2 = sorted(str2)\n",
        "\n",
        "\tfor i in range(0, n1):\n",
        "\t\tif str1[i] != str2[i]:\n",
        "\t\t\treturn 0\n",
        "\n",
        "\treturn 1\n",
        "\n",
        "str1 = input(\"Enter first word : \")\n",
        "str2 = input(\"Enter second word : \")\n",
        "\n",
        "if areAnagram(str1, str2):\n",
        "\tprint(\"The two strings are anagram of each other\")\n",
        "else:\n",
        "\tprint(\"The two strings are not anagram of each other\")"
      ],
      "metadata": {
        "colab": {
          "base_uri": "https://localhost:8080/"
        },
        "id": "gHKNyIM4DyhR",
        "outputId": "f512374e-0e77-4e81-8597-1bbc84950ed1"
      },
      "execution_count": null,
      "outputs": [
        {
          "output_type": "stream",
          "name": "stdout",
          "text": [
            "Enter first word : test\n",
            "Enter second word : etst\n",
            "The two strings are anagram of each other\n"
          ]
        }
      ]
    },
    {
      "cell_type": "markdown",
      "source": [
        "# 4. Implement Binary Search tree using class"
      ],
      "metadata": {
        "id": "hZljJQFpFyLg"
      }
    },
    {
      "cell_type": "code",
      "source": [
        "class BSTNode:\n",
        "    def __init__(self, val=None):\n",
        "        self.left = None\n",
        "        self.right = None\n",
        "        self.val = val\n",
        "\n",
        "    def insert(self, val):\n",
        "        if not self.val:\n",
        "            self.val = val\n",
        "            return\n",
        "\n",
        "        if self.val == val:\n",
        "            return\n",
        "\n",
        "        if val < self.val:\n",
        "            if self.left:\n",
        "                self.left.insert(val)\n",
        "                return\n",
        "            self.left = BSTNode(val)\n",
        "            return\n",
        "\n",
        "        if self.right:\n",
        "            self.right.insert(val)\n",
        "            return\n",
        "        self.right = BSTNode(val)\n",
        "\n",
        "    def get_min(self):\n",
        "        current = self\n",
        "        while current.left is not None:\n",
        "            current = current.left\n",
        "        return current.val\n",
        "\n",
        "    def get_max(self):\n",
        "        current = self\n",
        "        while current.right is not None:\n",
        "            current = current.right\n",
        "        return current.val\n",
        "\n",
        "    def delete(self, val):\n",
        "        if self == None:\n",
        "            return self\n",
        "        if val < self.val:\n",
        "            if self.left:\n",
        "                self.left = self.left.delete(val)\n",
        "            return self\n",
        "        if val > self.val:\n",
        "            if self.right:\n",
        "                self.right = self.right.delete(val)\n",
        "            return self\n",
        "        if self.right == None:\n",
        "            return self.left\n",
        "        if self.left == None:\n",
        "            return self.right\n",
        "        min_larger_node = self.right\n",
        "        while min_larger_node.left:\n",
        "            min_larger_node = min_larger_node.left\n",
        "        self.val = min_larger_node.val\n",
        "        self.right = self.right.delete(min_larger_node.val)\n",
        "        return self\n",
        "\n",
        "    def exists(self, val):\n",
        "        if val == self.val:\n",
        "            return True\n",
        "\n",
        "        if val < self.val:\n",
        "            if self.left == None:\n",
        "                return False\n",
        "            return self.left.exists(val)\n",
        "\n",
        "        if self.right == None:\n",
        "            return False\n",
        "        return self.right.exists(val)\n",
        "\n",
        "    def preorder(self, vals):\n",
        "        if self.val is not None:\n",
        "            vals.append(self.val)\n",
        "        if self.left is not None:\n",
        "            self.left.preorder(vals)\n",
        "        if self.right is not None:\n",
        "            self.right.preorder(vals)\n",
        "        return vals\n",
        "\n",
        "    def inorder(self, vals):\n",
        "        if self.left is not None:\n",
        "            self.left.inorder(vals)\n",
        "        if self.val is not None:\n",
        "            vals.append(self.val)\n",
        "        if self.right is not None:\n",
        "            self.right.inorder(vals)\n",
        "        return vals\n",
        "\n",
        "    def postorder(self, vals):\n",
        "        if self.left is not None:\n",
        "            self.left.postorder(vals)\n",
        "        if self.right is not None:\n",
        "            self.right.postorder(vals)\n",
        "        if self.val is not None:\n",
        "            vals.append(self.val)\n",
        "        return vals\n",
        "\n",
        "ob = BSTNode()\n",
        "ob.insert(12)\n",
        "ob.insert(9)\n",
        "ob.insert(2)\n",
        "ob.insert(56)\n",
        "ob.insert(11)\n",
        "ob.insert(1)\n",
        "ob.insert(90)\n",
        "ob.insert(332)\n",
        "ob.insert(0)\n",
        "ob.exists(12)\n",
        "print(\"Maximum \",ob.get_max())\n",
        "print(\"Minimum \",ob.get_min())\n"
      ],
      "metadata": {
        "id": "XesSAgg0E43Q",
        "colab": {
          "base_uri": "https://localhost:8080/"
        },
        "outputId": "95019c4e-57b1-40df-fd67-72477378b2ca"
      },
      "execution_count": null,
      "outputs": [
        {
          "output_type": "stream",
          "name": "stdout",
          "text": [
            "Maximum  332\n",
            "Minimum  0\n"
          ]
        }
      ]
    },
    {
      "cell_type": "markdown",
      "source": [
        "# 5. Using class implement:\n",
        "# Singly link list and all its operations"
      ],
      "metadata": {
        "id": "m3yzLUr8GnvN"
      }
    },
    {
      "cell_type": "code",
      "source": [
        "class Node:\n",
        "  def __init__(self,data, next=None):\n",
        "    self.data = data\n",
        "    self.next = next\n",
        "  def getData(self):\n",
        "    return self.data\n",
        "  def setData(self, data):\n",
        "    self.data = data\n",
        "  def getNextNode(self):\n",
        "    return self.next\n",
        "  def setNextNode(self, node):\n",
        "    self.next = node\n",
        "class LinkedList:\n",
        "  def __init__(self, head=None):\n",
        "    self.head = head\n",
        "    self.size = 0\n",
        "  def getSize(self):\n",
        "    return self.size\n",
        "  def addNode(self, data):\n",
        "    node = Node(data, self.head)\n",
        "    self.head = node\n",
        "    self.size += 1\n",
        "    return True\n",
        "  def removeNode(self, value):\n",
        "    prev = None\n",
        "    curr = self.head\n",
        "    while curr:\n",
        "      if curr.getData() == value:\n",
        "        if prev:\n",
        "          prev.setNextNode(curr.getNextNode())\n",
        "        else:\n",
        "          self.head = curr.getNextNode()\n",
        "        return True\n",
        "      prev = curr\n",
        "      curr = curr.getNextNode()\n",
        "    return False\n",
        "  def findNode(self,value):\n",
        "    curr = self.head\n",
        "    while curr:\n",
        "      if curr.getData() == value:\n",
        "        return True\n",
        "      else:\n",
        "        curr = curr.getNextNode()\n",
        "        return False\n",
        "  def printLL(self):\n",
        "    curr = self.head\n",
        "    while curr:\n",
        "      print(curr.data)\n",
        "      curr = curr.getNextNode()\n",
        "ob5 = LinkedList()\n",
        "print(\"Insert:\")\n",
        "print(ob5.addNode(876))\n",
        "print(ob5.addNode(321))\n",
        "print(ob5.addNode(243))\n",
        "print(ob5.addNode(806))\n",
        "print(ob5.addNode(300))\n",
        "print(ob5.addNode(600))\n",
        "print(\"Display:\")\n",
        "ob5.printLL()\n",
        "print(\"Search :\")\n",
        "print(ob5.findNode(321))\n",
        "print(ob5.findNode(5))\n",
        "print(\"Delete:\")\n",
        "print(ob5.removeNode(876))\n",
        "print(ob5.removeNode(0))\n",
        "print(\"Final Linked List:\")\n",
        "ob5.printLL()"
      ],
      "metadata": {
        "id": "noAKOtmXGdS_",
        "colab": {
          "base_uri": "https://localhost:8080/"
        },
        "outputId": "e15c919d-11cd-4536-9110-28282cbc3895"
      },
      "execution_count": null,
      "outputs": [
        {
          "output_type": "stream",
          "name": "stdout",
          "text": [
            "Insert:\n",
            "True\n",
            "True\n",
            "True\n",
            "True\n",
            "True\n",
            "True\n",
            "Display:\n",
            "600\n",
            "300\n",
            "806\n",
            "243\n",
            "321\n",
            "876\n",
            "Search :\n",
            "False\n",
            "False\n",
            "Delete:\n",
            "True\n",
            "False\n",
            "Final Linked List:\n",
            "600\n",
            "300\n",
            "806\n",
            "243\n",
            "321\n"
          ]
        }
      ]
    },
    {
      "cell_type": "markdown",
      "source": [
        "# 6. Write a program that takes a birthday as input and prints the user’s age and the\n",
        "# number of days, hours, minutes and seconds until their next birthday. Use Class"
      ],
      "metadata": {
        "id": "eA72GgaBIjCH"
      }
    },
    {
      "cell_type": "code",
      "source": [
        "import datetime\n",
        "\n",
        "rules = {0: \"Monday\",\n",
        "         1: \"Tuesday\",\n",
        "         2: \"Wednesday\",\n",
        "         3: \"Thursday\",\n",
        "         4: \"Friday\",\n",
        "         5: \"Saturday\",\n",
        "         6: \"Sunday\"}\n",
        "\n",
        "\n",
        "class Time(object):\n",
        "  now = datetime.datetime.now()\n",
        "\n",
        "  def __init__(self, year=1, month=1, day=1, hour=0, minute=0, second=0):\n",
        "      self.date = datetime.datetime(year, month, day, hour, minute, second)\n",
        "\n",
        "today = Time().now\n",
        "birthday = Time(1997, 3, 5).date\n",
        "\n",
        "\n",
        "def day_of_week():\n",
        "  return \"1) Today is %s\" % rules[today.weekday()]\n",
        "\n",
        "\n",
        "def birthday_stats(birthday):\n",
        "  age = today.year - birthday.year\n",
        "  if (birthday.month == today.month) and (birthday.day <= today.day):\n",
        "      pass\n",
        "  elif birthday.month < today.month:\n",
        "      pass\n",
        "  else:\n",
        "      age -= 1\n",
        "\n",
        "  birthday_ = Time(today.year, birthday.month, birthday.day).date\n",
        "  till_birthday = str(birthday_ - today).split()\n",
        "\n",
        "  if len(till_birthday) > 1:\n",
        "      days = int(till_birthday[0])\n",
        "      time = till_birthday[2].split(\":\")\n",
        "  else:\n",
        "      days = 365\n",
        "      time = till_birthday[0].split(\":\")\n",
        "\n",
        "  hours = time[0]\n",
        "  mins = time[1]\n",
        "  secs = time[2][:2]\n",
        "\n",
        "  if (days < 0) and (days != 365):\n",
        "      days = 365 + days\n",
        "  elif (days == 365):\n",
        "      days = 0\n",
        "  else:\n",
        "      days = abs(days)\n",
        "\n",
        "  print (\"2) You are %s years old; %sd:%sh:%sm:%ss until your next birthday.\"\n",
        "    % (age, days, hours, mins, secs))\n",
        "\n",
        "print (day_of_week())\n",
        "birthday_stats(birthday)"
      ],
      "metadata": {
        "colab": {
          "base_uri": "https://localhost:8080/"
        },
        "id": "_ZdLYLI-HC98",
        "outputId": "2e76c445-bfe3-4485-b3f3-9d2ceecb86a2"
      },
      "execution_count": null,
      "outputs": [
        {
          "output_type": "stream",
          "name": "stdout",
          "text": [
            "1) Today is Thursday\n",
            "2) You are 24 years old; 71d:6h:52m:17s until your next birthday.\n"
          ]
        }
      ]
    },
    {
      "cell_type": "markdown",
      "source": [
        "# 7. Write a Python program to get all possible unique subsets from a set of distinct\n",
        "# integers. Use class"
      ],
      "metadata": {
        "id": "G--7Ept_Ji1i"
      }
    },
    {
      "cell_type": "code",
      "source": [
        "class unique:\n",
        "  def sub_sets(self, sset):\n",
        "    return self.subsetsRecur([], sorted(sset))\n",
        "  def subsetsRecur(self, curr, sset):\n",
        "    if sset:\n",
        "      return self.subsetsRecur(curr, sset[1:]) + self.subsetsRecur(curr + [sset[0]], sset[1:])\n",
        "    return [curr]\n",
        "print(unique().sub_sets([12,7,9]))"
      ],
      "metadata": {
        "colab": {
          "base_uri": "https://localhost:8080/"
        },
        "id": "X_uMgZQvRxOz",
        "outputId": "2d4ea269-b028-4c6d-c0c5-3f7c24aac6ea"
      },
      "execution_count": null,
      "outputs": [
        {
          "output_type": "stream",
          "name": "stdout",
          "text": [
            "[[], [12], [9], [9, 12], [7], [7, 12], [7, 9], [7, 9, 12]]\n"
          ]
        }
      ]
    }
  ]
}